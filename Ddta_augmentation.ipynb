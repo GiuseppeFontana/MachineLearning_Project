{
 "cells": [
  {
   "cell_type": "code",
   "execution_count": 1,
   "metadata": {},
   "outputs": [
    {
     "name": "stderr",
     "output_type": "stream",
     "text": [
      "Using TensorFlow backend.\n"
     ]
    }
   ],
   "source": [
    "import os\n",
    "import cv2\n",
    "from sklearn.ensemble import BaggingClassifier\n",
    "#import matplotlib.pyplot as plt\n",
    "#from sklearn.model_selection import train_test_split\n",
    "#import sklearn as skl\n",
    "import sklearn.preprocessing as preproc\n",
    "import numpy as np\n",
    "import keras as k\n",
    "from keras.layers import Input, Conv2D, MaxPooling2D, UpSampling2D, ZeroPadding2D, Flatten, Dense, Dropout, MaxPool2D\n",
    "#import matplotlib.pyplot as plt\n",
    "from sklearn.ensemble import ExtraTreesClassifier\n",
    "#from time import time\n",
    "import pandas as pd\n",
    "from imblearn.over_sampling import SMOTENC\n",
    "import tensorflow as tf\n",
    "from PIL import Image\n",
    "from keras.preprocessing.image import ImageDataGenerator\n",
    "\n",
    "\n",
    "def lab_encode(dataset):#Ho una sola colonna! \n",
    "    new_le = preproc.LabelEncoder()\n",
    "    dataset['dx'] = new_le.fit_transform(dataset['dx']) \n",
    "    #  label_encoders[col] = new_le \n",
    "    return\n",
    "\n",
    "image_path = '..\\skin-cancer-mnist-ham10000\\HAM10000_images_part_1'\n",
    "csv_path = 'HAM10000_metadata.csv'\n",
    "dataset = pd.read_csv(csv_path, encoding = \"ISO-8859-1\")\n",
    "lab_encode(dataset)\n",
    "\n",
    "\n",
    "\n",
    "    # apro il csv\n",
    "    # encoding del dx\n",
    "    # prendo solo le colonne name e dx\n",
    "    # per ogni file:\n",
    "    # os.replace(\"path/to/current/file.foo\", \"path/to/new/destination/for/file.foo\")"
   ]
  },
  {
   "cell_type": "code",
   "execution_count": 2,
   "metadata": {},
   "outputs": [],
   "source": [
    "########### gioco di cartelle\n",
    "for index in range(len(dataset)):\n",
    "    img=dataset.iloc[index][\"image_id\"]\n",
    "    source = '..\\skin-cancer-mnist-ham10000\\HAM10000_images_part_1\\\\'+ img +'.jpg'\n",
    "    dx =str(dataset.iloc[index][\"dx\"])\n",
    "    dest = '..\\skin-cancer-mnist-ham10000\\HAM10000_images_part_1\\\\'+ dx + '\\\\' + img + '.jpg'\n",
    "    os.replace(dest, source)"
   ]
  },
  {
   "cell_type": "code",
   "execution_count": null,
   "metadata": {},
   "outputs": [],
   "source": []
  },
  {
   "cell_type": "code",
   "execution_count": null,
   "metadata": {},
   "outputs": [],
   "source": []
  },
  {
   "cell_type": "raw",
   "metadata": {},
   "source": [
    "questo serve a creare cartelle per ogni label e farne data augmentation"
   ]
  },
  {
   "cell_type": "code",
   "execution_count": 36,
   "metadata": {},
   "outputs": [
    {
     "ename": "NameError",
     "evalue": "name 'img_dir2' is not defined",
     "output_type": "error",
     "traceback": [
      "\u001b[1;31m---------------------------------------------------------------------------\u001b[0m",
      "\u001b[1;31mNameError\u001b[0m                                 Traceback (most recent call last)",
      "\u001b[1;32m<ipython-input-36-c71a660ba4c1>\u001b[0m in \u001b[0;36m<module>\u001b[1;34m\u001b[0m\n\u001b[0;32m     13\u001b[0m \u001b[1;33m\u001b[0m\u001b[0m\n\u001b[0;32m     14\u001b[0m \u001b[1;32mfor\u001b[0m \u001b[0mitem\u001b[0m \u001b[1;32min\u001b[0m \u001b[0mclass_list\u001b[0m\u001b[1;33m:\u001b[0m\u001b[1;33m\u001b[0m\u001b[1;33m\u001b[0m\u001b[0m\n\u001b[1;32m---> 15\u001b[1;33m     \u001b[0mclass_dir\u001b[0m \u001b[1;33m=\u001b[0m \u001b[0mos\u001b[0m\u001b[1;33m.\u001b[0m\u001b[0mpath\u001b[0m\u001b[1;33m.\u001b[0m\u001b[0mjoin\u001b[0m\u001b[1;33m(\u001b[0m\u001b[0mimg_dir2\u001b[0m\u001b[1;33m,\u001b[0m \u001b[0mitem\u001b[0m\u001b[1;33m)\u001b[0m\u001b[1;33m\u001b[0m\u001b[1;33m\u001b[0m\u001b[0m\n\u001b[0m\u001b[0;32m     16\u001b[0m     \u001b[0mos\u001b[0m\u001b[1;33m.\u001b[0m\u001b[0mmkdir\u001b[0m\u001b[1;33m(\u001b[0m\u001b[0mclass_dir\u001b[0m\u001b[1;33m)\u001b[0m\u001b[1;33m\u001b[0m\u001b[1;33m\u001b[0m\u001b[0m\n\u001b[0;32m     17\u001b[0m \u001b[1;33m\u001b[0m\u001b[0m\n",
      "\u001b[1;31mNameError\u001b[0m: name 'img_dir2' is not defined"
     ]
    }
   ],
   "source": [
    "import shutil\n",
    "\n",
    "# note that we are not augmenting class 'nv'\n",
    "class_list = ['0','1','2','3','4','6']\n",
    "\n",
    "# We are creating temporary directories here because we delete these directories later\n",
    "# create a base dir\n",
    "aug_dir = '..\\\\aug_dir'\n",
    "#os.mkdir(aug_dir)\n",
    "# create a dir within the base dir to store images of the same class\n",
    "img_dir = os.path.join(aug_dir, 'img_dir')\n",
    "#os.mkdir(img_dir2)\n",
    "\n",
    "for item in class_list:\n",
    "    class_dir = os.path.join(img_dir2, item)\n",
    "    os.mkdir(class_dir)\n",
    "\n",
    "    # Choose a class\n",
    "    img_class = item\n",
    "\n",
    "    # list all images in that directory\n",
    "    img_list = os.listdir('..\\\\skin-cancer-mnist-ham10000\\\\HAM10000_images_part_1\\\\' + img_class) # qui le immagini sono già nelle proprie cartelle\n",
    "\n",
    "    # Copy images from the class train dir to the img_dir e.g. class 'mel'\n",
    "    for fname in img_list:\n",
    "            # source path to image\n",
    "            src = os.path.join('..\\\\skin-cancer-mnist-ham10000\\\\HAM10000_images_part_1\\\\' + img_class, fname)\n",
    "            # destination path to image\n",
    "            dst = os.path.join(class_dir, fname) #####\n",
    "            #print(dst)\n",
    "            # copy the image from the source to the destination\n",
    "            ####################shutil.copyfile(src, dst)\n",
    "\n",
    "\n",
    "    # point to a dir containing the images and not to the images themselves\n",
    "    path = img_dir\n",
    "    #save_path = img_dir + '\\\\' + img_class\n",
    "    save_path = img_dir  # la cartella label esiste già\n",
    "\n",
    "    # Create a data generator\n",
    "    datagen = ImageDataGenerator(\n",
    "        rotation_range=180,\n",
    "        width_shift_range=0.1,\n",
    "        height_shift_range=0.1,\n",
    "        zoom_range=0.1,\n",
    "        horizontal_flip=True,\n",
    "        vertical_flip=True,\n",
    "        #brightness_range=(0.9,1.1),\n",
    "        fill_mode='nearest')\n",
    "\n",
    "    batch_size = 50\n",
    "\n",
    "    aug_datagen = datagen.flow_from_directory(path,\n",
    "                                           save_to_dir=save_path,\n",
    "                                           save_format='jpg',\n",
    "                                                    target_size=(224,224),\n",
    "                                                    batch_size=batch_size)\n",
    "\n",
    "\n",
    "\n",
    "    # Generate the augmented images and add them to the training folders\n",
    "    \n",
    "    ###########\n",
    "    \n",
    "    num_aug_images_wanted = 6000 # total number of images we want to have in each class\n",
    "    \n",
    "    ###########\n",
    "    \n",
    "    num_files = len(os.listdir(img_dir))\n",
    "    num_batches = int(np.ceil((num_aug_images_wanted-num_files)/batch_size))\n",
    "\n",
    "    # run the generator and create about 6000 augmented images\n",
    "    for i in range(0,num_batches):\n",
    "\n",
    "        imgs, labels = next(aug_datagen)\n",
    "        \n",
    "    # delete temporary directory with the raw image files\n",
    "    #shutil.rmtree('aug_dir')"
   ]
  },
  {
   "cell_type": "code",
   "execution_count": null,
   "metadata": {},
   "outputs": [],
   "source": []
  },
  {
   "cell_type": "code",
   "execution_count": null,
   "metadata": {},
   "outputs": [],
   "source": []
  },
  {
   "cell_type": "code",
   "execution_count": 29,
   "metadata": {},
   "outputs": [
    {
     "name": "stdout",
     "output_type": "stream",
     "text": [
      "#img: 327\n"
     ]
    },
    {
     "ename": "TypeError",
     "evalue": "flow() got an unexpected keyword argument 'save_subfix'",
     "output_type": "error",
     "traceback": [
      "\u001b[1;31m---------------------------------------------------------------------------\u001b[0m",
      "\u001b[1;31mTypeError\u001b[0m                                 Traceback (most recent call last)",
      "\u001b[1;32m<ipython-input-29-0911f5d26d10>\u001b[0m in \u001b[0;36m<module>\u001b[1;34m\u001b[0m\n\u001b[0;32m     58\u001b[0m \u001b[0mi\u001b[0m \u001b[1;33m=\u001b[0m \u001b[1;36m0\u001b[0m\u001b[1;33m\u001b[0m\u001b[1;33m\u001b[0m\u001b[0m\n\u001b[0;32m     59\u001b[0m for batch in datagen.flow(x, batch_size=1,\n\u001b[1;32m---> 60\u001b[1;33m                           save_to_dir=class_dir, save_subfix='cat', save_format='jpg'):\n\u001b[0m\u001b[0;32m     61\u001b[0m     \u001b[0mi\u001b[0m \u001b[1;33m+=\u001b[0m \u001b[1;36m1\u001b[0m\u001b[1;33m\u001b[0m\u001b[1;33m\u001b[0m\u001b[0m\n\u001b[0;32m     62\u001b[0m     \u001b[1;32mif\u001b[0m \u001b[0mi\u001b[0m \u001b[1;33m>\u001b[0m \u001b[1;36m20\u001b[0m\u001b[1;33m:\u001b[0m\u001b[1;33m\u001b[0m\u001b[1;33m\u001b[0m\u001b[0m\n",
      "\u001b[1;31mTypeError\u001b[0m: flow() got an unexpected keyword argument 'save_subfix'"
     ]
    }
   ],
   "source": [
    "import shutil\n",
    "from PIL import Image\n",
    "from keras.preprocessing.image import ImageDataGenerator, array_to_img, img_to_array, load_img\n",
    "# note that we are not augmenting class 'nv'\n",
    "class_list = ['0','1','2','3','4','6']\n",
    "\n",
    "# We are creating temporary directories here because we delete these directories later\n",
    "# create a base dir\n",
    "aug_dir = '..\\\\aug_dir'\n",
    "#os.mkdir(aug_dir)\n",
    "# create a dir within the base dir to store images of the same class\n",
    "img_dir = os.path.join(aug_dir, 'img_dir')\n",
    "#os.mkdir(img_dir2)\n",
    "class_dir = os.path.join(img_dir, '0')\n",
    "#os.mkdir(class_dir)\n",
    "\n",
    "# Choose a class\n",
    "img_class = '0'\n",
    "\n",
    "# list all images in that directory\n",
    "img_list = os.listdir('..\\\\skin-cancer-mnist-ham10000\\\\HAM10000_images_part_1\\\\' + img_class) # qui le immagini sono già nelle proprie cartelle\n",
    "\n",
    "print('#img: '+ str(len(img_list)))\n",
    "\n",
    "# Copy images from the class train dir to the img_dir e.g. class 'mel'\n",
    "for fname in img_list:\n",
    "        # source path to image\n",
    "        src = os.path.join('..\\\\skin-cancer-mnist-ham10000\\\\HAM10000_images_part_1\\\\' + img_class, fname)\n",
    "        # destination path to image\n",
    "        dst = os.path.join(class_dir, fname) #####\n",
    "        #print('src: ' + src + '\\t\\t dst: ' + dst)\n",
    "        # copy the image from the source to the destination\n",
    "        ####################shutil.copyfile(src, dst)\n",
    "\n",
    "\n",
    "# point to a dir containing the images and not to the images themselves\n",
    "path = img_dir+'\\\\'\n",
    "#save_path = img_dir + '\\\\' + img_class\n",
    "save_path = img_dir  # la cartella label esiste già\n",
    "\n",
    "# Create a data generator\n",
    "datagen = ImageDataGenerator(\n",
    "    rotation_range=180,\n",
    "    width_shift_range=0.1,\n",
    "    height_shift_range=0.1,\n",
    "    zoom_range=0.1,\n",
    "    horizontal_flip=True,\n",
    "    vertical_flip=True,\n",
    "    #brightness_range=(0.9,1.1),\n",
    "    fill_mode='nearest')\n",
    "\n",
    "img = Image.open('..\\\\skin-cancer-mnist-ham10000\\\\HAM10000_images_part_1\\\\0\\\\ISIC_0024329.jpg')  # this is a PIL image\n",
    "x = img_to_array(img)  # this is a Numpy array with shape (3, 150, 150)\n",
    "x = x.reshape((1,) + x.shape)  # this is a Numpy array with shape (1, 3, 150, 150)\n",
    "\n",
    "# the .flow() command below generates batches of randomly transformed images\n",
    "# and saves the results to the `preview/` directory\n",
    "i = 0\n",
    "for batch in datagen.flow(x, batch_size=1,\n",
    "                          save_to_dir=class_dir, save_prefix='cat', save_format='jpg'):\n",
    "    i += 1\n",
    "    if i > 20:\n",
    "        break  # otherwise the generator would loop indefinitely\n",
    "\n",
    "# run the generator and create about 6000 augmented images\n",
    "#for i in range(0,num_batches):\n",
    "#\n",
    "#    imgs, labels = next(aug_datagen)\n",
    "    \n",
    "# delete temporary directory with the raw image files\n",
    "#shutil.rmtree('aug_dir')\n"
   ]
  },
  {
   "cell_type": "code",
   "execution_count": 24,
   "metadata": {},
   "outputs": [
    {
     "data": {
      "text/plain": [
       "'..\\\\aug_dir\\\\img_dir\\\\0'"
      ]
     },
     "execution_count": 24,
     "metadata": {},
     "output_type": "execute_result"
    }
   ],
   "source": [
    "class_dir"
   ]
  },
  {
   "cell_type": "code",
   "execution_count": 31,
   "metadata": {},
   "outputs": [],
   "source": [
    "k = datagen.flow(x, batch_size=5, save_to_dir=class_dir, save_prefix='dog', save_format='jpg')"
   ]
  },
  {
   "cell_type": "code",
   "execution_count": 34,
   "metadata": {},
   "outputs": [
    {
     "data": {
      "text/plain": [
       "66"
      ]
     },
     "execution_count": 34,
     "metadata": {},
     "output_type": "execute_result"
    }
   ],
   "source": [
    "import gc\n",
    "gc.collect()"
   ]
  },
  {
   "cell_type": "code",
   "execution_count": 39,
   "metadata": {},
   "outputs": [],
   "source": []
  },
  {
   "cell_type": "code",
   "execution_count": 40,
   "metadata": {},
   "outputs": [
    {
     "ename": "NameError",
     "evalue": "name 'x' is not defined",
     "output_type": "error",
     "traceback": [
      "\u001b[1;31m---------------------------------------------------------------------------\u001b[0m",
      "\u001b[1;31mNameError\u001b[0m                                 Traceback (most recent call last)",
      "\u001b[1;32m<ipython-input-40-6fcf9dfbd479>\u001b[0m in \u001b[0;36m<module>\u001b[1;34m\u001b[0m\n\u001b[1;32m----> 1\u001b[1;33m \u001b[0mx\u001b[0m\u001b[1;33m\u001b[0m\u001b[1;33m\u001b[0m\u001b[0m\n\u001b[0m",
      "\u001b[1;31mNameError\u001b[0m: name 'x' is not defined"
     ]
    }
   ],
   "source": []
  },
  {
   "cell_type": "code",
   "execution_count": null,
   "metadata": {},
   "outputs": [],
   "source": []
  }
 ],
 "metadata": {
  "kernelspec": {
   "display_name": "Python 3",
   "language": "python",
   "name": "python3"
  },
  "language_info": {
   "codemirror_mode": {
    "name": "ipython",
    "version": 3
   },
   "file_extension": ".py",
   "mimetype": "text/x-python",
   "name": "python",
   "nbconvert_exporter": "python",
   "pygments_lexer": "ipython3",
   "version": "3.6.10"
  }
 },
 "nbformat": 4,
 "nbformat_minor": 4
}
