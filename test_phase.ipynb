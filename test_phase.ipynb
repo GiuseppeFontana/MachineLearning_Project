{
 "cells": [
  {
   "cell_type": "raw",
   "metadata": {},
   "source": [
    "- carico in memoria il classificatore\n",
    "- istanzio l'encoder e lo fitto\n",
    "- carico in memoria le immagini test\n",
    "- predict del classificatore\n",
    "- inverse trasform sulle previsioni\n",
    "- print classification report"
   ]
  },
  {
   "cell_type": "code",
   "execution_count": 11,
   "metadata": {},
   "outputs": [],
   "source": [
    "# imports\n",
    "import os\n",
    "import cv2\n",
    "from sklearn.ensemble import BaggingClassifier\n",
    "#import matplotlib.pyplot as plt\n",
    "from sklearn.model_selection import train_test_split\n",
    "import sklearn\n",
    "import sklearn.preprocessing as preproc\n",
    "import numpy as np\n",
    "import keras as k\n",
    "from keras.layers import Input, Conv2D, MaxPooling2D, UpSampling2D, ZeroPadding2D, Flatten, Dense, Dropout, MaxPool2D\n",
    "from keras.models import Sequential\n",
    "#import matplotlib.pyplot as plt\n",
    "from sklearn.ensemble import ExtraTreesClassifier\n",
    "#from time import time\n",
    "import pandas as pd\n",
    "from imblearn.over_sampling import SMOTENC\n",
    "import tensorflow as tf\n",
    "from PIL import Image\n",
    "from keras.preprocessing.image import ImageDataGenerator\n",
    "from keras.layers import BatchNormalization\n",
    "import math\n",
    "import shutil\n",
    "from keras.preprocessing.image import ImageDataGenerator, array_to_img, img_to_array, load_img\n",
    "from sklearn.preprocessing import OneHotEncoder"
   ]
  },
  {
   "cell_type": "code",
   "execution_count": 3,
   "metadata": {},
   "outputs": [],
   "source": [
    "image_path = '..\\\\..\\\\Untitled_Folder'\n",
    "#### FABIO\n",
    "# image_path = '..\\skin-cancer-mnist-ham10000\\HAM10000_images_part_1'\n",
    "csv_completo_2 = 'dataframe_completo_2.csv' \n",
    "#classifier = \"cl_fit.h5\""
   ]
  },
  {
   "cell_type": "code",
   "execution_count": 4,
   "metadata": {},
   "outputs": [],
   "source": [
    "# dal dataframe ne estrae le immagini in un array, serve nel batch\n",
    "def load_images(array):\n",
    "    images = list()\n",
    "    #print(array.iloc[0])\n",
    "    for index in range(0,len(array)):\n",
    "        #print(index.type())\n",
    "        img_id = array.iloc[index]\n",
    "        elem = os.path.join(image_path, img_id)\n",
    "        elem = elem + \".jpg\"\n",
    "        img = cv2.imread(elem)\n",
    "        # TODO va fatto un reshape, non capisco perché\n",
    "        images.append(np.asarray(img)) #########################################################################################\n",
    "    return np.asarray(images)"
   ]
  },
  {
   "cell_type": "code",
   "execution_count": 5,
   "metadata": {},
   "outputs": [
    {
     "data": {
      "text/plain": [
       "OneHotEncoder(categories='auto', drop=None, dtype=<class 'numpy.float64'>,\n",
       "              handle_unknown='error', sparse=False)"
      ]
     },
     "execution_count": 5,
     "metadata": {},
     "output_type": "execute_result"
    }
   ],
   "source": [
    "# - carico in memoria il classificatore\n",
    "# - istanzio l'encoder e lo fitto\n",
    "dataset = pd.read_csv(csv_completo_2, encoding = \"ISO-8859-1\")\n",
    "testset = pd.read_csv(\"test03.csv\", encoding = \"ISO-8859-1\")\n",
    "\n",
    "cl_batch = k.models.load_model(\"cl_batch.h5\")\n",
    "cl_fit = k.models.load_model(\"cl_fit.h5\")\n",
    "\n",
    "enc = OneHotEncoder(sparse=False)\n",
    "y_train_shaped = np.array(dataset[\"dx\"]).reshape(-1,1)\n",
    "enc.fit(y_train_shaped)"
   ]
  },
  {
   "cell_type": "code",
   "execution_count": 7,
   "metadata": {},
   "outputs": [],
   "source": [
    "# - carico in memoria le immagini test\n",
    "\n",
    "test_img = load_images(testset[\"image_id\"])"
   ]
  },
  {
   "cell_type": "code",
   "execution_count": null,
   "metadata": {},
   "outputs": [],
   "source": [
    "# - predict del classificatore batch\n",
    "\n",
    "predictions1 = cl_batch.predict(test_img)\n",
    "pred_reverse1 = enc.inverse_transform(predictions1)\n",
    "print(sklearn.metrics.classification_report(testset[\"dx\"], pred_reverse1))\n",
    "print('F1-score: '+ str(round(sklearn.metrics.f1_score(testset[\"dx\"], pred_reverse1, average='micro'),2)))"
   ]
  },
  {
   "cell_type": "code",
   "execution_count": 12,
   "metadata": {},
   "outputs": [
    {
     "name": "stdout",
     "output_type": "stream",
     "text": [
      "              precision    recall  f1-score   support\n",
      "\n",
      "           0       0.66      0.31      0.43      2013\n",
      "           1       0.60      0.63      0.61      1631\n",
      "           2       0.50      0.56      0.53      2308\n",
      "           3       0.70      0.81      0.75      2041\n",
      "           4       0.58      0.63      0.60      2312\n",
      "           5       0.75      0.83      0.79      2026\n",
      "           6       0.95      0.94      0.94      2056\n",
      "\n",
      "    accuracy                           0.67     14387\n",
      "   macro avg       0.68      0.67      0.66     14387\n",
      "weighted avg       0.67      0.67      0.66     14387\n",
      "\n",
      "F1-score: 0.67\n"
     ]
    }
   ],
   "source": []
  },
  {
   "cell_type": "code",
   "execution_count": 13,
   "metadata": {},
   "outputs": [
    {
     "name": "stdout",
     "output_type": "stream",
     "text": [
      "              precision    recall  f1-score   support\n",
      "\n",
      "           0       0.32      0.56      0.41      2013\n",
      "           1       0.26      0.63      0.37      1631\n",
      "           2       0.48      0.13      0.21      2308\n",
      "           3       0.42      0.25      0.31      2041\n",
      "           4       0.47      0.55      0.51      2312\n",
      "           5       0.63      0.44      0.52      2026\n",
      "           6       0.93      0.43      0.59      2056\n",
      "\n",
      "    accuracy                           0.42     14387\n",
      "   macro avg       0.50      0.43      0.42     14387\n",
      "weighted avg       0.51      0.42      0.41     14387\n",
      "\n",
      "F1-score: 0.42\n"
     ]
    }
   ],
   "source": [
    "predictions2 = cl_fit.predict(test_img)\n",
    "pred_reverse2 = enc.inverse_transform(predictions2)\n",
    "print(sklearn.metrics.classification_report(testset[\"dx\"], pred_reverse2))\n",
    "print('F1-score: '+ str(round(sklearn.metrics.f1_score(testset[\"dx\"], pred_reverse2, average='micro'),2)))"
   ]
  },
  {
   "cell_type": "code",
   "execution_count": null,
   "metadata": {},
   "outputs": [],
   "source": [
    "# DA CANCELLARE\n",
    "trainset = pd.read_csv(\"train07.csv\", encoding = \"ISO-8859-1\")\n",
    "mass=int(len(trainset)*0.1)\n",
    "samples = trainset.sample(n=mass)\n",
    "\n",
    "print(\"loading images...\")\n",
    "train_img = load_images(samples[\"image_id\"])"
   ]
  },
  {
   "cell_type": "code",
   "execution_count": 16,
   "metadata": {},
   "outputs": [
    {
     "name": "stdout",
     "output_type": "stream",
     "text": [
      "predicting...\n",
      "              precision    recall  f1-score   support\n",
      "\n",
      "           0       0.34      0.56      0.42       481\n",
      "           1       0.29      0.63      0.40       411\n",
      "           2       0.57      0.17      0.26       511\n",
      "           3       0.43      0.30      0.35       450\n",
      "           4       0.48      0.56      0.52       530\n",
      "           5       0.66      0.48      0.56       488\n",
      "           6       0.92      0.46      0.61       485\n",
      "\n",
      "    accuracy                           0.45      3356\n",
      "   macro avg       0.53      0.45      0.45      3356\n",
      "weighted avg       0.53      0.45      0.45      3356\n",
      "\n",
      "F1-score: 0.45\n"
     ]
    }
   ],
   "source": [
    "\n",
    "print(\"predicting...\")\n",
    "predictions3 = cl_fit.predict(train_img)\n",
    "pred_reverse3 = enc.inverse_transform(predictions3)\n",
    "print(sklearn.metrics.classification_report(samples[\"dx\"], pred_reverse3))\n",
    "print('F1-score: '+ str(round(sklearn.metrics.f1_score(samples[\"dx\"], pred_reverse3, average='micro'),2)))\n"
   ]
  },
  {
   "cell_type": "code",
   "execution_count": 17,
   "metadata": {},
   "outputs": [
    {
     "name": "stdout",
     "output_type": "stream",
     "text": [
      "predicting...\n",
      "              precision    recall  f1-score   support\n",
      "\n",
      "           0       0.87      0.51      0.64       481\n",
      "           1       0.80      0.78      0.79       411\n",
      "           2       0.65      0.76      0.70       511\n",
      "           3       0.76      0.88      0.81       450\n",
      "           4       0.73      0.76      0.75       530\n",
      "           5       0.84      0.88      0.86       488\n",
      "           6       0.97      0.98      0.98       485\n",
      "\n",
      "    accuracy                           0.79      3356\n",
      "   macro avg       0.80      0.79      0.79      3356\n",
      "weighted avg       0.80      0.79      0.79      3356\n",
      "\n",
      "F1-score: 0.79\n"
     ]
    }
   ],
   "source": [
    "print(\"predicting...\")\n",
    "predictions4 = cl_batch.predict(train_img)\n",
    "pred_reverse4 = enc.inverse_transform(predictions4)\n",
    "print(sklearn.metrics.classification_report(samples[\"dx\"], pred_reverse4))\n",
    "print('F1-score: '+ str(round(sklearn.metrics.f1_score(samples[\"dx\"], pred_reverse4, average='micro'),2)))"
   ]
  },
  {
   "cell_type": "code",
   "execution_count": null,
   "metadata": {},
   "outputs": [],
   "source": []
  }
 ],
 "metadata": {
  "kernelspec": {
   "display_name": "Python 3",
   "language": "python",
   "name": "python3"
  },
  "language_info": {
   "codemirror_mode": {
    "name": "ipython",
    "version": 3
   },
   "file_extension": ".py",
   "mimetype": "text/x-python",
   "name": "python",
   "nbconvert_exporter": "python",
   "pygments_lexer": "ipython3",
   "version": "3.6.10"
  }
 },
 "nbformat": 4,
 "nbformat_minor": 4
}
