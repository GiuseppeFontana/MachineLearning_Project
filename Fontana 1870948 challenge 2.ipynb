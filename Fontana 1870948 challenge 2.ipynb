{
 "cells": [
  {
   "cell_type": "markdown",
   "metadata": {},
   "source": [
    "\n",
    "# Machine Learning 2019/2020 - Challenge 2 - 16 December 2019\n",
    "\n",
    "## Rules (read carefully):\n",
    "- This year the results of the two challenges will count 10% and 15% respectively of your final score.\n",
    "- If you work with a group of colleges (max 3 students), please remember your solution must be <b>\"your solution\"</b>, hence provide your individual answers/arguments/opinions/critics;\n",
    "- Students of the same group can share <b>ONLY</b> the code.\n",
    "- Mail your solution (a <b>jupyter notebook</b>) only to stefano.faralli@unitelmasapienza.it before the 1:59 PM of the 19 December 2019 (Rome Berlin time);\n",
    "- The subject of your email must be: \"[Challenge_2_solution] NAME - SURNAME - MATRICOLA.\"\n",
    "- Double check the subject of your email and the attachments;\n",
    "- In case you want to compress the attachment, <b>USE ONLY STANDARD ZIP compression</b>;\n",
    "- <b>Please sumbit ONLY the notebook with SAVED OUTPUTS!</b>\n",
    "- The physical attendance to the lab is not mandatory, you can work from a remote place by following the identical rules.\n",
    "- Your solution might be considered as the \"copy\" of others solutions, in that specific case the assigned score will be the result of the proposed solution divided by the number of \"too much similar\" solutions. If you share the code with the components of your \"group\" please comment the code and answer the questions by yourself.\n",
    "\n",
    "- Monday 16 December, I will share the necessary key to unzip the content of the provided challenge material (I will also send a message on the Google group).\n",
    "- To unzip the content of the zip you will use the above key\n",
    "- Then read carefully all the part of the jupyter notebook and fill all mandatory fields.\n",
    "- <b>Don't write \"personal\" emails</b> to Stefano Faralli, but please <b>use the google group</b> I will reply until 12 AM of 17 December 2019 <b>(strict deadline)</b>. \n",
    "- <b>solutions (and correspondig points) are evaluated mainly on your thoughts/comments/opinions</b> hence, please use the provided corresponding \"YOUR COMMENTS\" cell</b> \n",
    "\n"
   ]
  },
  {
   "cell_type": "markdown",
   "metadata": {},
   "source": [
    "## Identification (Mandatory)"
   ]
  },
  {
   "cell_type": "code",
   "execution_count": 1,
   "metadata": {},
   "outputs": [],
   "source": [
    "# Identification\n",
    "# assign the following string values\n",
    "yourNameSurname='Giuseppe Fontana'\n",
    "yourMatricolaNumber='1870948'\n",
    "yourStudentEMAIL='fontana.1870948@studenti.uniroma1.it'\n",
    "yourColleguesNameSurnames=['Fabio Galassi']"
   ]
  },
  {
   "cell_type": "markdown",
   "metadata": {},
   "source": [
    "# Lego Bricks Visual Classification\n",
    "<img src=\"45020_Prod_03.jpg\"/>\n",
    "\n",
    "## Description of the task:\n",
    "<br>\n",
    "devolop a classifier able to classify with a <b>weighted avg F1 score greater than 0.60</b> pictures of Lego bricks taken at different angles.\n",
    "Use Keras and scikit-learn to develop, train and evaluate a CNN with:<br>\n",
    "- Convolutional and Pooling operations<br>  \n",
    "- a dense sub network at the end <br>\n"
   ]
  },
  {
   "cell_type": "markdown",
   "metadata": {},
   "source": [
    "## Part 1 -  Dataset (max 6/30)"
   ]
  },
  {
   "cell_type": "markdown",
   "metadata": {},
   "source": [
    "### Part 1-a  - Load the dataset (3/6 pts)\n",
    "The provided dataset is composed by pictures of Lego bricks, taken at different angles:<br>\n",
    "As an example the following picture:<br>\n",
    "<img src=\"dataset/train/2357 Brick corner 1x2x2/201706171206-0001.png\"/> \n",
    "corresponds to the png file in \"dataset/train/2357 Brick corner 1x2x2/201706171206-0001.png\"\n",
    "- \"201706171206-0001.png\" is the name of the file;\n",
    "- \"2357 Brick corner 1x2x2\" is the label of the Lego brick type;\n",
    "- \"train\" means that this is the portion of the dataset you must use for the training\n",
    "Inside the folder <b>dataset</b> you can find another subfolder <b>validatetest</b>.\n",
    "The content inside of <b>validatetest</b> must be used (after a proper split) for validation during training and for testing during the evaluation.\n",
    "\n",
    "\n",
    "Load the dataset and create: \n",
    "- X_train, y_train from the content in \"dataset/train/\"\n",
    "- X_validate,y_validate,X_test,y_test as a split (20% for validation and 80% for test) of the content in \"dataset/validatetest/\"\n",
    "\n",
    "<b>Tips:</b>\n",
    "- you can use CV2 or matplotlib to load pictures\n",
    "- check the file you are loading is ending with \".png\"\n"
   ]
  },
  {
   "cell_type": "code",
   "execution_count": 3,
   "metadata": {},
   "outputs": [],
   "source": [
    "# imports\n",
    "import os\n",
    "import cv2\n",
    "#import matplotlib.pyplot as plt\n",
    "from sklearn.model_selection import train_test_split\n",
    "import sklearn as skl\n",
    "import sklearn.preprocessing as preproc\n",
    "import numpy as np\n",
    "import keras as k\n",
    "from keras.layers import Input, Conv2D, MaxPooling2D, UpSampling2D, ZeroPadding2D, Flatten, Dense\n",
    "import matplotlib.pyplot as plt\n",
    "from sklearn.ensemble import ExtraTreesClassifier\n",
    "from time import time"
   ]
  },
  {
   "cell_type": "code",
   "execution_count": 4,
   "metadata": {},
   "outputs": [],
   "source": [
    " # CODE OF PART 1 - \"Load the Dataset\"\n",
    "def loadPictures(path):\n",
    "    for _,dirs,_ in os.walk(path):\n",
    "        X=[];\n",
    "        y=[];\n",
    "        for dir in dirs:\n",
    "            for _,_,files in os.walk(path+dir+\"/\"):\n",
    "                for file in files:\n",
    "                    if file.find('.png')<0:\n",
    "                        continue     \n",
    "                    #print(\"Loading:\"+path+dir+\"/\"+file)\n",
    "                    img = cv2.imread(path+dir+\"/\"+file)\n",
    "                    img_resize = cv2.resize(img, (199,199))\n",
    "                    # grayscale\n",
    "                    gray = cv2.cvtColor(img_resize, cv2.COLOR_RGB2GRAY)\n",
    "                    X.append(gray)\n",
    "                    y.append(dir)\n",
    "        return X,y\n",
    "\n",
    "\n",
    "X_train,y_train = loadPictures('/home/user1/Desktop/CHALLENGE_2/CHALLENGE_2/dataset/train/')\n",
    "X_valtest, y_valtest=loadPictures('/home/user1/Desktop/CHALLENGE_2/CHALLENGE_2/dataset/validationandtest/')\n",
    "\n",
    "\n",
    "# splitting test and validation\n",
    "X_test,X_validate,y_test,y_validate = train_test_split(X_valtest, y_valtest, test_size=0.20)"
   ]
  },
  {
   "cell_type": "markdown",
   "metadata": {},
   "source": [
    "# your comments:"
   ]
  },
  {
   "cell_type": "markdown",
   "metadata": {},
   "source": [
    "In this phase we have loaded the images, then we converted them in grayscale format (it was more comfortable to perform here, embedded in the loadPictures function); \n",
    "finally we split as requested the sets according to \"80% test - 20% validation\" format.\n",
    "Size of images is 199x199 pixels."
   ]
  },
  {
   "cell_type": "markdown",
   "metadata": {},
   "source": [
    "### Part 1-b Dataset  preprocessing (3/6 pts max)\n",
    "Since you are using the dataset for a classification task using Keras API you will need to perform some dataset tranformations:<br>\n",
    "1) tranform all the images into grayscale having a final shape of (dim,dim,1)  dim<200;<br>\n",
    "<img src=\"info.png\">\n",
    "2) encode properly the target features for train, test and validation<br>\n",
    "\n",
    "<b>Tips:</b>\n",
    "- you can use CV2 and numpy to tranform and reshape the pictures\n"
   ]
  },
  {
   "cell_type": "code",
   "execution_count": 5,
   "metadata": {},
   "outputs": [
    {
     "name": "stderr",
     "output_type": "stream",
     "text": [
      "C:\\Users\\fabiu\\Anaconda3\\lib\\site-packages\\sklearn\\preprocessing\\_encoders.py:415: FutureWarning: The handling of integer data will change in version 0.22. Currently, the categories are determined based on the range [0, max(values)], while in the future they will be determined based on the unique values.\n",
      "If you want the future behaviour and silence this warning, you can specify \"categories='auto'\".\n",
      "In case you used a LabelEncoder before this OneHotEncoder to convert the categories to integers, then you can now use the OneHotEncoder directly.\n",
      "  warnings.warn(msg, FutureWarning)\n"
     ]
    }
   ],
   "source": [
    "# CODE OF PART 1 - \"Dataset  preprocessing\"\n",
    "\n",
    "\n",
    "#Grayscale fatto nel blocco precedente\n",
    "\n",
    "X_train = np.reshape(X_train, (len(X_train), 199, 199, 1))\n",
    "X_test = np.reshape(X_test, (len(X_test), 199, 199, 1))\n",
    "X_validate = np.reshape(X_validate, (len(X_validate), 199, 199, 1))\n",
    "\n",
    "#Encoding\n",
    "    \n",
    "l_enc = preproc.LabelEncoder()\n",
    "h_enc = preproc.OneHotEncoder(sparse=False)\n",
    "\n",
    "l_enc.fit(y_train)\n",
    "y_trainLabels = l_enc.transform(y_train)\n",
    "y_testLabels = l_enc.transform(y_test)\n",
    "y_validateLabels = l_enc.transform(y_validate)\n",
    "\n",
    "\n",
    "\n",
    "h_enc.fit(y_trainLabels.reshape(-1,1))\n",
    "y_trainHot = h_enc.transform(y_trainLabels.reshape(-1,1))\n",
    "y_testHot = h_enc.transform(y_testLabels.reshape(-1,1))\n",
    "y_validateHot = h_enc.transform(y_validateLabels.reshape(-1,1))\n",
    "\n"
   ]
  },
  {
   "cell_type": "markdown",
   "metadata": {},
   "source": [
    "# your comments:"
   ]
  },
  {
   "cell_type": "markdown",
   "metadata": {},
   "source": [
    "Image transformation is performed in the previous code block.\n",
    "In the encoding phase we opted for one-hot encoding (because otherwise we could have some troubles in the later performances).\n",
    "Anyways we had to do an intermediate step in which prepare the input for the one-hot encoder in a Label-like format, due to the fact that passing names of folders as strings issued some errors (during the trials we noted that starting from strings was not too much good for the encoder)"
   ]
  },
  {
   "cell_type": "markdown",
   "metadata": {},
   "source": [
    "## Part 2 - Training (max 12 pts)\n",
    "## Part 2.a - create and train a  working CNN (10/10 pts)\n",
    "use Keras: with Convolutional and Pooling operations and a dense sub network at the end, use properly the preprocessed portions of the dataset (train and validation) and apply scaling.\n",
    "\n",
    "## Part 2.b -  save the learned model (2/10 pts)\n",
    "save the model to a file"
   ]
  },
  {
   "cell_type": "code",
   "execution_count": 6,
   "metadata": {},
   "outputs": [],
   "source": [
    "#code for Part 2 - Training\n",
    "\n",
    "\n",
    "def train_model1(): \n",
    "    input_img = Input(shape=(199, 199, 1))  # 1x199x199 image con 1 canale solo (grigio) \n",
    "    x = Conv2D(16, (5, 5), activation='relu', padding='same')(input_img) # 16x199x199\n",
    "    x = MaxPooling2D((2, 2), padding='same')(x) # 16x100x100\n",
    "    x = Conv2D(8, (3, 3), activation='relu', padding='same')(x) # 8x100x100\n",
    "    x = MaxPooling2D((2, 2), padding='same')(x) # 8x50x50\n",
    "    x = Conv2D(8, (3, 3), activation='relu', padding='same')(x) # 8x50x50\n",
    "    x = MaxPooling2D((2, 2), padding='same')(x) # 8x25x25\n",
    "    x = Flatten()(x)\n",
    "    encoded = Dense(16, activation='softmax')(x)\n",
    "    \n",
    "    classifier = k.models.Model(input_img, encoded)\n",
    "    classifier.compile(optimizer='adadelta', loss='binary_crossentropy') \n",
    "\n",
    " \n",
    "    classifier.fit(X_train, y_trainHot, epochs=15, batch_size=200, shuffle=True, validation_data=(X_validate, y_validateHot)) \n",
    "\n",
    "    #Salvataggio\n",
    "    classifier.save('classifier.h5')\n",
    "    \n",
    "\n",
    "#Scaling\n",
    "X_train = X_train.astype('float32') / 255\n",
    "X_validate = X_validate.astype('float32') / 255\n",
    "X_test = X_test.astype('float32') / 255\n"
   ]
  },
  {
   "cell_type": "code",
   "execution_count": 7,
   "metadata": {},
   "outputs": [
    {
     "name": "stdout",
     "output_type": "stream",
     "text": [
      "WARNING:tensorflow:From C:\\Users\\fabiu\\Anaconda3\\lib\\site-packages\\keras\\backend\\tensorflow_backend.py:74: The name tf.get_default_graph is deprecated. Please use tf.compat.v1.get_default_graph instead.\n",
      "\n",
      "WARNING:tensorflow:From C:\\Users\\fabiu\\Anaconda3\\lib\\site-packages\\keras\\backend\\tensorflow_backend.py:517: The name tf.placeholder is deprecated. Please use tf.compat.v1.placeholder instead.\n",
      "\n",
      "WARNING:tensorflow:From C:\\Users\\fabiu\\Anaconda3\\lib\\site-packages\\keras\\backend\\tensorflow_backend.py:4138: The name tf.random_uniform is deprecated. Please use tf.random.uniform instead.\n",
      "\n",
      "WARNING:tensorflow:From C:\\Users\\fabiu\\Anaconda3\\lib\\site-packages\\keras\\backend\\tensorflow_backend.py:3976: The name tf.nn.max_pool is deprecated. Please use tf.nn.max_pool2d instead.\n",
      "\n",
      "WARNING:tensorflow:From C:\\Users\\fabiu\\Anaconda3\\lib\\site-packages\\keras\\optimizers.py:790: The name tf.train.Optimizer is deprecated. Please use tf.compat.v1.train.Optimizer instead.\n",
      "\n",
      "WARNING:tensorflow:From C:\\Users\\fabiu\\Anaconda3\\lib\\site-packages\\keras\\backend\\tensorflow_backend.py:3376: The name tf.log is deprecated. Please use tf.math.log instead.\n",
      "\n",
      "WARNING:tensorflow:From C:\\Users\\fabiu\\Anaconda3\\lib\\site-packages\\tensorflow_core\\python\\ops\\nn_impl.py:183: where (from tensorflow.python.ops.array_ops) is deprecated and will be removed in a future version.\n",
      "Instructions for updating:\n",
      "Use tf.where in 2.0, which has the same broadcast rule as np.where\n",
      "WARNING:tensorflow:From C:\\Users\\fabiu\\Anaconda3\\lib\\site-packages\\keras\\backend\\tensorflow_backend.py:986: The name tf.assign_add is deprecated. Please use tf.compat.v1.assign_add instead.\n",
      "\n",
      "WARNING:tensorflow:From C:\\Users\\fabiu\\Anaconda3\\lib\\site-packages\\keras\\backend\\tensorflow_backend.py:973: The name tf.assign is deprecated. Please use tf.compat.v1.assign instead.\n",
      "\n",
      "WARNING:tensorflow:From C:\\Users\\fabiu\\Anaconda3\\lib\\site-packages\\keras\\backend\\tensorflow_backend.py:2741: The name tf.Session is deprecated. Please use tf.compat.v1.Session instead.\n",
      "\n",
      "Train on 6379 samples, validate on 1276 samples\n",
      "Epoch 1/15\n",
      "WARNING:tensorflow:From C:\\Users\\fabiu\\Anaconda3\\lib\\site-packages\\keras\\backend\\tensorflow_backend.py:174: The name tf.get_default_session is deprecated. Please use tf.compat.v1.get_default_session instead.\n",
      "\n",
      "WARNING:tensorflow:From C:\\Users\\fabiu\\Anaconda3\\lib\\site-packages\\keras\\backend\\tensorflow_backend.py:181: The name tf.ConfigProto is deprecated. Please use tf.compat.v1.ConfigProto instead.\n",
      "\n",
      "WARNING:tensorflow:From C:\\Users\\fabiu\\Anaconda3\\lib\\site-packages\\keras\\backend\\tensorflow_backend.py:190: The name tf.global_variables is deprecated. Please use tf.compat.v1.global_variables instead.\n",
      "\n",
      "WARNING:tensorflow:From C:\\Users\\fabiu\\Anaconda3\\lib\\site-packages\\keras\\backend\\tensorflow_backend.py:199: The name tf.is_variable_initialized is deprecated. Please use tf.compat.v1.is_variable_initialized instead.\n",
      "\n",
      "WARNING:tensorflow:From C:\\Users\\fabiu\\Anaconda3\\lib\\site-packages\\keras\\backend\\tensorflow_backend.py:206: The name tf.variables_initializer is deprecated. Please use tf.compat.v1.variables_initializer instead.\n",
      "\n",
      "6379/6379 [==============================] - 61s 10ms/step - loss: 0.2005 - val_loss: 0.1744\n",
      "Epoch 2/15\n",
      "6379/6379 [==============================] - 49s 8ms/step - loss: 0.1384 - val_loss: 0.1120\n",
      "Epoch 3/15\n",
      "6379/6379 [==============================] - 50s 8ms/step - loss: 0.1089 - val_loss: 0.1023\n",
      "Epoch 4/15\n",
      "6379/6379 [==============================] - 50s 8ms/step - loss: 0.0903 - val_loss: 0.0792\n",
      "Epoch 5/15\n",
      "6379/6379 [==============================] - 54s 9ms/step - loss: 0.0768 - val_loss: 0.0606\n",
      "Epoch 6/15\n",
      "6379/6379 [==============================] - 64s 10ms/step - loss: 0.0638 - val_loss: 0.0624\n",
      "Epoch 7/15\n",
      "6379/6379 [==============================] - 65s 10ms/step - loss: 0.0567 - val_loss: 0.0537\n",
      "Epoch 8/15\n",
      "6379/6379 [==============================] - 70s 11ms/step - loss: 0.0493 - val_loss: 0.0463\n",
      "Epoch 9/15\n",
      "6379/6379 [==============================] - 50s 8ms/step - loss: 0.0443 - val_loss: 0.0379\n",
      "Epoch 10/15\n",
      "6379/6379 [==============================] - 50s 8ms/step - loss: 0.0395 - val_loss: 0.0334\n",
      "Epoch 11/15\n",
      "6379/6379 [==============================] - 49s 8ms/step - loss: 0.0355 - val_loss: 0.0337\n",
      "Epoch 12/15\n",
      "6379/6379 [==============================] - 50s 8ms/step - loss: 0.0344 - val_loss: 0.0343\n",
      "Epoch 13/15\n",
      "6379/6379 [==============================] - 51s 8ms/step - loss: 0.0308 - val_loss: 0.0267\n",
      "Epoch 14/15\n",
      "6379/6379 [==============================] - 66s 10ms/step - loss: 0.0301 - val_loss: 0.0361\n",
      "Epoch 15/15\n",
      "6379/6379 [==============================] - 65s 10ms/step - loss: 0.0272 - val_loss: 0.0231\n"
     ]
    }
   ],
   "source": [
    "train_model1()"
   ]
  },
  {
   "cell_type": "markdown",
   "metadata": {},
   "source": [
    "# your comments:"
   ]
  },
  {
   "cell_type": "markdown",
   "metadata": {},
   "source": [
    "Here we projected the CNN: it performs some Conv2D and MaxPooling functions, taking in input images [199x199x1] and building volumes [25x25x8]; these volumes are flatten and given as input for the Dense function with softmax activator; we didn't apply any striding because even if information was kept in the centre of images, we don't think they are enough \"blurred\" to make reasonable striding procedure. We opted for the first kernel 5x5 big (not enough big to lose information and not too much small to degrade performances); following filters are 3x3 to keep in such a way accuracy.\n",
    "Before calling the CNN training (train_model1()) we rescaled pixel values normalyzing them (values between 0 and 1).\n",
    "As expected, there was a moment in which performances didn't grow anymore (after the 10th epoch).\n",
    "training_model1() saves the computed model in the end."
   ]
  },
  {
   "cell_type": "markdown",
   "metadata": {},
   "source": [
    "# Part 3 - Evaluation (max 10 pts)\n",
    "## Part 3.a - Test (max 8/10 pts)\n",
    "- use the classifier built during Part 2, to classify the lego brick label of each picture of your Test dataset portion.\n",
    "- print the classifcation report\n",
    "\n",
    "## Part 3.b - minal f1 requirement (max 2/10 pts)\n",
    "- if from the report (in part 3.a) you printed, the weighted avg F1 is greater than 0.60 you get 1 point\n",
    "- if from the report (in part 3.a) you printed, the weighted avg F1 is greater than 0.70 you get 1 point\n",
    "- if from the report you printed in part 3.a the weighted avg F1 is less or equal to 0.60 you get -2 points"
   ]
  },
  {
   "cell_type": "code",
   "execution_count": 8,
   "metadata": {},
   "outputs": [
    {
     "name": "stdout",
     "output_type": "stream",
     "text": [
      "              precision    recall  f1-score   support\n",
      "\n",
      "           0       0.90      0.91      0.90       313\n",
      "           1       0.94      0.81      0.87       315\n",
      "           2       1.00      1.00      1.00       307\n",
      "           3       1.00      1.00      1.00       329\n",
      "           4       1.00      1.00      1.00       325\n",
      "           5       0.99      0.99      0.99       329\n",
      "           6       1.00      0.98      0.99       329\n",
      "           7       0.63      0.85      0.73       308\n",
      "           8       0.96      0.98      0.97       320\n",
      "           9       1.00      0.99      1.00       316\n",
      "          10       0.97      0.90      0.94       327\n",
      "          11       0.99      1.00      1.00       326\n",
      "          12       0.90      0.98      0.94       324\n",
      "          13       1.00      1.00      1.00       315\n",
      "          14       0.76      0.55      0.64       294\n",
      "          15       0.99      1.00      1.00       326\n",
      "\n",
      "    accuracy                           0.94      5103\n",
      "   macro avg       0.94      0.93      0.93      5103\n",
      "weighted avg       0.94      0.94      0.94      5103\n",
      "\n",
      "F1-score: 0.94\n"
     ]
    }
   ],
   "source": [
    "#code for  part 3\n",
    "classifier = k.models.load_model('classifier.h5')\n",
    "\n",
    "predictions = classifier.predict(X_test)\n",
    "\n",
    "pred_reverse = h_enc.inverse_transform(predictions)\n",
    "\n",
    "print(skl.metrics.classification_report(y_testLabels, pred_reverse))\n",
    "\n",
    "print('F1-score: '+ str(round(skl.metrics.f1_score(y_testLabels, pred_reverse, average='micro'),2)))"
   ]
  },
  {
   "cell_type": "markdown",
   "metadata": {},
   "source": [
    "# your comments:"
   ]
  },
  {
   "cell_type": "markdown",
   "metadata": {},
   "source": [
    "As expected, predictions are in softmax format: each entry is an array of 16 floats, their sum is 1 and enlights the \"most probable\" labels. We applied reverse transformation to take back the \"labeled\" values (from 0 to 15) of predictions and compared them with label-encoded format of y_test. Outcomes are impressives in my opinion, and given that some executions give low accuracy and recall we are pretty sure that the model is not overfit."
   ]
  },
  {
   "cell_type": "markdown",
   "metadata": {},
   "source": [
    "# Part 4 - Feature importance (max 2/30 pts)\n",
    "## Part 4.a perform a pixel based feature importance analysis on the validation portion of the dataset (1 pts)\n",
    "## Part 4.b plot the corresponding heatmap of pixel importance (1 pts)\n",
    "\n"
   ]
  },
  {
   "cell_type": "code",
   "execution_count": 11,
   "metadata": {},
   "outputs": [
    {
     "name": "stdout",
     "output_type": "stream",
     "text": [
      "Fitting ExtraTreesClassifier on faces data with 1 cores...\n",
      "done in 39.936s\n"
     ]
    },
    {
     "data": {
      "image/png": "[encoded data removed]",
      "text/plain": [
       "<Figure size 288x288 with 1 Axes>"
      ]
     },
     "metadata": {
      "needs_background": "light"
     },
     "output_type": "display_data"
    }
   ],
   "source": [
    "# Number of cores to use to perform parallel fitting of the forest model\n",
    "n_jobs = 1\n",
    "\n",
    "# Load the images\n",
    "X, y = X_validate.reshape(1276, 39601), y_validateHot\n",
    "\n",
    "# Build a forest and compute the pixel importances\n",
    "print(\"Fitting ExtraTreesClassifier on images data with %d cores...\" % n_jobs)\n",
    "t0 = time()\n",
    "forest = ExtraTreesClassifier(n_estimators=1000,\n",
    "                              max_features=128,\n",
    "                              n_jobs=n_jobs,\n",
    "                              random_state=0)\n",
    "\n",
    "forest.fit(X, y)\n",
    "print(\"done in %0.3fs\" % (time() - t0))\n",
    "importances = forest.feature_importances_\n",
    "importances = importances.reshape(199,199)\n",
    "\n",
    "# Plot pixel importances\n",
    "plt.matshow(importances, cmap=plt.cm.hot)\n",
    "plt.title(\"Pixel importances with forests of trees\\n\")\n",
    "plt.show()"
   ]
  },
  {
   "cell_type": "markdown",
   "metadata": {},
   "source": [
    "# your comments:"
   ]
  },
  {
   "cell_type": "markdown",
   "metadata": {},
   "source": [
    "We performed feature importance on another model (an extratree ensamble). From the result we can confirm what we was expecting: pixels on the board are black because they give no information about lego's (bricks are centered in the images); moreover, we observe \"concentric rings\" of information due to the fact that bricks are photographed in many angulations (I suppose that angles where well uniform-distributed too)."
   ]
  },
  {
   "cell_type": "markdown",
   "metadata": {},
   "source": [
    "Nota finale per il professore: personalmente ho avuto delle serie difficoltà nello svolgimento della challenge su macchina virtuale, perché la ram veniva saturata da entrambi i sistemi operativi e al momento del training del modello il kernel di Anaconda andava in crash. Anche pensando di soddisfare i minimi requisiti hardware, non avrei potuto superare la prova se l'avessi sostenuta senza compagni."
   ]
  },
  {
   "cell_type": "markdown",
   "metadata": {},
   "source": [
    "# Part 5 - Extra point\n",
    "- if from the report you printed in part 3.a the weighted avg F1 is greater tha 0.85 you get 1 point\n",
    "\n",
    "\n",
    "\n",
    "<img src=\"dexter.jpg\"/>"
   ]
  }
 ],
 "metadata": {
  "kernelspec": {
   "display_name": "Python 3",
   "language": "python",
   "name": "python3"
  },
  "language_info": {
   "codemirror_mode": {
    "name": "ipython",
    "version": 3
   },
   "file_extension": ".py",
   "mimetype": "text/x-python",
   "name": "python",
   "nbconvert_exporter": "python",
   "pygments_lexer": "ipython3",
   "version": "3.6.10"
  }
 },
 "nbformat": 4,
 "nbformat_minor": 4
}
