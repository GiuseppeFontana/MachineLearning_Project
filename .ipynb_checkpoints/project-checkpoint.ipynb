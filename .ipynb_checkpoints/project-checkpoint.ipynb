{
 "cells": [
  {
   "cell_type": "code",
   "execution_count": null,
   "metadata": {},
   "outputs": [],
   "source": [
    "# imports\n",
    "import os\n",
    "import cv2\n",
    "#import matplotlib.pyplot as plt\n",
    "from sklearn.model_selection import train_test_split\n",
    "import sklearn as skl\n",
    "import sklearn.preprocessing as preproc\n",
    "import numpy as np\n",
    "import keras as k\n",
    "from keras.layers import Input, Conv2D, MaxPooling2D, UpSampling2D, ZeroPadding2D, Flatten, Dense\n",
    "import matplotlib.pyplot as plt\n",
    "from sklearn.ensemble import ExtraTreesClassifier\n",
    "from time import time"
   ]
  },
  {
   "cell_type": "code",
   "execution_count": null,
   "metadata": {},
   "outputs": [],
   "source": [
    " # CODE OF PART 1 - \"Load the Dataset\"\n",
    "    #invece di ciclare in dirs (le vecchie label), per ogni immagine messa in X la y sarà tipo get_tupla(name=immagine)[dx]\n",
    "def loadPictures(path):\n",
    "    for _,dirs,_ in os.walk(path):\n",
    "        X=[];\n",
    "        y=[];\n",
    "        for dir in dirs:\n",
    "            for _,_,files in os.walk(path+dir+\"/\"):\n",
    "                for file in files:\n",
    "                    if file.find('.png')<0:\n",
    "                        continue     \n",
    "                    #print(\"Loading:\"+path+dir+\"/\"+file)\n",
    "                    img = cv2.imread(path+dir+\"/\"+file)\n",
    "                    img_resize = cv2.resize(img, (199,199))\n",
    "                    # grayscale\n",
    "                    gray = cv2.cvtColor(img_resize, cv2.COLOR_RGB2GRAY)\n",
    "                    X.append(gray)\n",
    "                    y.append(dir)\n",
    "        return X,y"
   ]
  }
 ],
 "metadata": {
  "kernelspec": {
   "display_name": "Python 3",
   "language": "python",
   "name": "python3"
  },
  "language_info": {
   "codemirror_mode": {
    "name": "ipython",
    "version": 3
   },
   "file_extension": ".py",
   "mimetype": "text/x-python",
   "name": "python",
   "nbconvert_exporter": "python",
   "pygments_lexer": "ipython3",
   "version": "3.7.3"
  }
 },
 "nbformat": 4,
 "nbformat_minor": 4
}
