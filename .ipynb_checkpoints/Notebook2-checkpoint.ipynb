{
  "nbformat": 4,
  "nbformat_minor": 0,
  "metadata": {
    "colab": {
      "name": "TrainingTest.ipynb",
      "provenance": []
    },
    "kernelspec": {
      "name": "python3",
      "display_name": "Python 3"
    },
    "accelerator": "GPU"
  },
  "cells": [
    {
      "cell_type": "code",
      "metadata": {
        "id": "-Khxo5R79aOT",
        "colab_type": "code",
        "colab": {
          "base_uri": "https://localhost:8080/",
          "height": 129
        },
        "outputId": "d392778c-7aee-4347-a897-c6df7fc3edf4"
      },
      "source": [
        "# imports\n",
        "import os\n",
        "import cv2\n",
        "from sklearn.ensemble import BaggingClassifier\n",
        "from sklearn.model_selection import train_test_split\n",
        "import sklearn as skl\n",
        "import sklearn.preprocessing as preproc\n",
        "import numpy as np\n",
        "import keras as k\n",
        "from keras.layers import Input, Conv2D, MaxPooling2D, UpSampling2D, ZeroPadding2D, Flatten, Dense, Dropout, MaxPool2D\n",
        "from keras.models import Sequential\n",
        "from sklearn.ensemble import ExtraTreesClassifier\n",
        "import pandas as pd\n",
        "from imblearn.over_sampling import SMOTENC\n",
        "import tensorflow as tf\n",
        "from PIL import Image\n",
        "from keras.preprocessing.image import ImageDataGenerator\n",
        "from keras.layers import BatchNormalization\n",
        "import math\n",
        "import shutil\n",
        "from keras.preprocessing.image import ImageDataGenerator, array_to_img, img_to_array, load_img\n",
        "from sklearn.preprocessing import OneHotEncoder\n",
        "from keras.callbacks import History \n",
        "from keras.callbacks import EarlyStopping\n",
        "from keras.callbacks import ReduceLROnPlateau\n",
        "from keras.callbacks import ModelCheckpoint\n",
        "from keras.regularizers import l2\n",
        "import matplotlib.pyplot as plt\n",
        "\n",
        "history=History()"
      ],
      "execution_count": null,
      "outputs": [
        {
          "output_type": "stream",
          "text": [
            "Using TensorFlow backend.\n",
            "/usr/local/lib/python3.6/dist-packages/sklearn/externals/six.py:31: FutureWarning: The module is deprecated in version 0.21 and will be removed in version 0.23 since we've dropped support for Python 2.7. Please rely on the official version of six (https://pypi.org/project/six/).\n",
            "  \"(https://pypi.org/project/six/).\", FutureWarning)\n",
            "/usr/local/lib/python3.6/dist-packages/sklearn/utils/deprecation.py:144: FutureWarning: The sklearn.neighbors.base module is  deprecated in version 0.22 and will be removed in version 0.24. The corresponding classes / functions should instead be imported from sklearn.neighbors. Anything that cannot be imported from sklearn.neighbors is now part of the private API.\n",
            "  warnings.warn(message, FutureWarning)\n"
          ],
          "name": "stderr"
        }
      ]
    },
    {
      "cell_type": "code",
      "metadata": {
        "id": "kdniKjTG9irI",
        "colab_type": "code",
        "colab": {
          "base_uri": "https://localhost:8080/",
          "height": 147
        },
        "outputId": "fd6a2090-f295-42d1-9ca6-8e203a841b8f"
      },
      "source": [
        "#GoogleDrive folder import\n",
        "from google.colab import drive\n",
        "drive.mount('/gdrive')\n",
        "%cd /gdrive"
      ],
      "execution_count": null,
      "outputs": [
        {
          "output_type": "stream",
          "text": [
            "Go to this URL in a browser: https://accounts.google.com/o/oauth2/auth?client_id=947318989803-6bn6qk8qdgf4n4g3pfee6491hc0brc4i.apps.googleusercontent.com&redirect_uri=urn%3aietf%3awg%3aoauth%3a2.0%3aoob&response_type=code&scope=email%20https%3a%2f%2fwww.googleapis.com%2fauth%2fdocs.test%20https%3a%2f%2fwww.googleapis.com%2fauth%2fdrive%20https%3a%2f%2fwww.googleapis.com%2fauth%2fdrive.photos.readonly%20https%3a%2f%2fwww.googleapis.com%2fauth%2fpeopleapi.readonly\n",
            "\n",
            "Enter your authorization code:\n",
            "··········\n",
            "Mounted at /gdrive\n",
            "/gdrive\n"
          ],
          "name": "stdout"
        }
      ]
    },
    {
      "cell_type": "code",
      "metadata": {
        "id": "cPbwKzlU9p-J",
        "colab_type": "code",
        "colab": {}
      },
      "source": [
        "#Creation of images folder\n",
        "!mkdir /images"
      ],
      "execution_count": null,
      "outputs": []
    },
    {
      "cell_type": "code",
      "metadata": {
        "id": "1wdDAI9z9uuV",
        "colab_type": "code",
        "colab": {}
      },
      "source": [
        "#3 unzip the folder containing images in images folder\n",
        "\n",
        "!unzip -q /gdrive/\"My Drive\"/Untitledfolder.zip -d /images"
      ],
      "execution_count": null,
      "outputs": []
    },
    {
      "cell_type": "code",
      "metadata": {
        "id": "Bg4Tpidb91dx",
        "colab_type": "code",
        "colab": {}
      },
      "source": [
        "#Creation of csv directory and copy of datasets\n",
        "!mkdir /csv\n",
        "\n",
        "!cp /gdrive/My\\ Drive/esteso_064.csv /csv #training\n",
        "!cp /gdrive/My\\ Drive/orig_016.csv /csv #validation\n",
        "!cp /gdrive/My\\ Drive/orig_02.csv /csv #test"
      ],
      "execution_count": null,
      "outputs": []
    },
    {
      "cell_type": "code",
      "metadata": {
        "id": "citwT0ru-Bjv",
        "colab_type": "code",
        "colab": {}
      },
      "source": [
        "image_path = \"/images//Untitledfolder\" #path to folder with images\n",
        "csv_test='/csv/orig_02.csv' #path to csv containing only 20% of original dataset, used for testing\n",
        "csv_train='/csv/esteso_064.csv' #path to csv containing 64% of original dataset (80% of the remaining set after test splitting), used as train set\n",
        "csv_validation='/csv/orig_016.csv' # path to csv containing 16% (20% of the remaining set after test splitting), used ad validation set"
      ],
      "execution_count": null,
      "outputs": []
    },
    {
      "cell_type": "code",
      "metadata": {
        "id": "DQdaajJKA1RK",
        "colab_type": "code",
        "colab": {}
      },
      "source": [
        "# extract images from the dataset and return an array\n",
        "def load_images(array):\n",
        "    images = list()\n",
        "    for index in range(0,len(array)):\n",
        "        img_id = array.iloc[index]\n",
        "        elem = os.path.join(image_path, img_id)\n",
        "        elem = elem + \".jpg\"\n",
        "        img = cv2.imread(elem)\n",
        "        images.append(np.asarray(img)) \n",
        "    return np.asarray(images)"
      ],
      "execution_count": null,
      "outputs": []
    },
    {
      "cell_type": "code",
      "metadata": {
        "id": "1tugftUoBHKQ",
        "colab_type": "code",
        "colab": {}
      },
      "source": [
        "def new_classifier1():\n",
        "    # Set the CNN model \n",
        "    input_shape = (150, 200, 3)\n",
        "    build_shape=(None,150,200,3)\n",
        "    num_classes = 7\n",
        "    #Adding regularizer for activity regulation\n",
        "    model = Sequential()\n",
        "    model.add(BatchNormalization())\n",
        "    model.add(Conv2D(20, kernel_size=(5, 5),activation='relu',padding = 'Same', input_shape = input_shape))\n",
        "    model.add(MaxPool2D(pool_size = (2, 2)))\n",
        "    model.add(BatchNormalization())\n",
        "    model.add(Conv2D(140,kernel_size=(3, 3), activation='relu',padding = 'Same'))\n",
        "    model.add(MaxPool2D(pool_size = (2, 2)))\n",
        "    model.add(BatchNormalization())\n",
        "    model.add(Conv2D(50,kernel_size=(3, 3), activation='relu',padding = 'Same'))\n",
        "    model.add(MaxPool2D(pool_size = (2, 2)))\n",
        "    model.add(BatchNormalization())\n",
        "    \n",
        "    model.add(Flatten())\n",
        "    model.add(Dense(128, activation='relu'))\n",
        "    model.add(Dense(num_classes, activation='softmax'))\n",
        "    model.build(build_shape)\n",
        "    model.summary()\n",
        "   \n",
        "    opt = k.optimizers.Adam(lr=0.001, beta_1=0.9, beta_2=0.999)\n",
        "    model.compile(optimizer=opt, loss='categorical_crossentropy', metrics=['accuracy'])\n",
        "    return model\n",
        "\n",
        "\n",
        "def new_classifier2():\n",
        "    # Set the CNN model \n",
        "    input_shape = (150, 200, 3)\n",
        "    build_shape=(None,150,200,3)\n",
        "    num_classes = 7\n",
        "    #Adding regularizer for activity regulation\n",
        "    model = Sequential()\n",
        "    model.add(BatchNormalization())\n",
        "    model.add(Conv2D(20, kernel_size=(5, 5),activation='relu',padding = 'Same', input_shape = input_shape))\n",
        "    model.add(MaxPool2D(pool_size = (2, 2)))\n",
        "    model.add(BatchNormalization())\n",
        "    model.add(Conv2D(140,kernel_size=(3, 3), activation='relu',padding = 'Same'))\n",
        "    model.add(MaxPool2D(pool_size = (2, 2)))\n",
        "    model.add(BatchNormalization())\n",
        "    model.add(Conv2D(50,kernel_size=(3, 3), activation='relu',padding = 'Same'))\n",
        "    model.add(MaxPool2D(pool_size = (2, 2)))\n",
        "    model.add(BatchNormalization())\n",
        "    \n",
        "    model.add(Flatten())\n",
        "    model.add(Dense(128, activation='relu'))\n",
        "    model.add(Dense(num_classes, activation='softmax'))\n",
        "    model.build(build_shape)\n",
        "    model.summary()\n",
        "   \n",
        "   #tensorflow suggesteed parameters\n",
        "    opt = k.optimizers.Adam(lr=0.001, beta_1=0.9, beta_2=0.999, epsilon=10e-8)\n",
        "    model.compile(optimizer=opt, loss='categorical_crossentropy', metrics=['accuracy'])\n",
        "    return model\n",
        "\n",
        "\n",
        "def new_classifier3():\n",
        "    # Set the CNN model \n",
        "    input_shape = (150, 200, 3)\n",
        "    build_shape=(None,150,200,3)\n",
        "    num_classes = 7\n",
        "    #Adding regularizer for activity regulation\n",
        "    model = Sequential()\n",
        "    model.add(BatchNormalization())\n",
        "    model.add(Conv2D(20, kernel_size=(5, 5),activation='relu',padding = 'Same', input_shape = input_shape))\n",
        "    model.add(MaxPool2D(pool_size = (2, 2)))\n",
        "    model.add(BatchNormalization())\n",
        "    model.add(Conv2D(140,kernel_size=(3, 3), activation='relu',padding = 'Same'))\n",
        "    model.add(MaxPool2D(pool_size = (2, 2)))\n",
        "    model.add(BatchNormalization())\n",
        "    model.add(Conv2D(50,kernel_size=(3, 3), activation='relu',padding = 'Same'))\n",
        "    model.add(MaxPool2D(pool_size = (2, 2)))\n",
        "    model.add(BatchNormalization())\n",
        "    \n",
        "    model.add(Flatten())\n",
        "    model.add(Dense(128, activation='relu'))\n",
        "    model.add(Dense(num_classes, activation='softmax'))\n",
        "    model.build(build_shape)\n",
        "    model.summary()\n",
        "   \n",
        "   #keras suggested parameters\n",
        "    opt = k.optimizers.Adam(lr=0.001, beta_1=0.9, beta_2=0.999, epsilon=10e-8)\n",
        "    model.compile(optimizer=opt, loss='categorical_crossentropy', metrics=['accuracy'])\n",
        "    return model\n",
        "\n",
        "\n",
        "def new_classifier4():\n",
        "    # Set the CNN model \n",
        "    input_shape = (150, 200, 3)\n",
        "    build_shape=(None,150,200,3)\n",
        "    num_classes = 7\n",
        "    #Adding regularizer for activity regulation\n",
        "    model = Sequential()\n",
        "    model.add(BatchNormalization())\n",
        "    model.add(Conv2D(20, kernel_size=(5, 5),activation='relu',padding = 'Same', input_shape = input_shape))\n",
        "    model.add(MaxPool2D(pool_size = (2, 2)))\n",
        "    model.add(BatchNormalization())\n",
        "    model.add(Conv2D(140,kernel_size=(3, 3), activation='relu',padding = 'Same'))\n",
        "    model.add(MaxPool2D(pool_size = (2, 2)))\n",
        "    model.add(BatchNormalization())\n",
        "    model.add(Conv2D(50,kernel_size=(3, 3), activation='relu',padding = 'Same'))\n",
        "    model.add(MaxPool2D(pool_size = (2, 2)))\n",
        "    model.add(BatchNormalization())\n",
        "    \n",
        "    model.add(Flatten())\n",
        "    model.add(Dense(128, activation='relu'))\n",
        "    model.add(Dense(num_classes, activation='softmax'))\n",
        "    model.build(build_shape)\n",
        "    model.summary()\n",
        "   \n",
        "   #Adadelta optimizer\n",
        "    model.compile(optimizer='adadelta', loss='categorical_crossentropy', metrics=['accuracy'])\n",
        "    return model\n"
      ],
      "execution_count": null,
      "outputs": []
    },
    {
      "cell_type": "code",
      "metadata": {
        "id": "ZImvCiDrB8rQ",
        "colab_type": "code",
        "colab": {
          "base_uri": "https://localhost:8080/",
          "height": 424
        },
        "outputId": "71741263-8194-4dd8-f904-a9d52d6af9ee"
      },
      "source": [
        "#Retrieve the dataset needed for test and train phases\n",
        "dataset_test = pd.read_csv(csv_test, encoding = \"ISO-8859-1\")\n",
        "dataset_train=pd.read_csv(csv_train, encoding = \"ISO-8859-1\")\n",
        "dataset_val=pd.read_csv(csv_validation, encoding = \"ISO-8859-1\")\n",
        "dataset_test #print dataset_test to show how it is"
      ],
      "execution_count": null,
      "outputs": [
        {
          "output_type": "execute_result",
          "data": {
            "text/html": [
              "<div>\n",
              "<style scoped>\n",
              "    .dataframe tbody tr th:only-of-type {\n",
              "        vertical-align: middle;\n",
              "    }\n",
              "\n",
              "    .dataframe tbody tr th {\n",
              "        vertical-align: top;\n",
              "    }\n",
              "\n",
              "    .dataframe thead th {\n",
              "        text-align: right;\n",
              "    }\n",
              "</style>\n",
              "<table border=\"1\" class=\"dataframe\">\n",
              "  <thead>\n",
              "    <tr style=\"text-align: right;\">\n",
              "      <th></th>\n",
              "      <th>dx</th>\n",
              "      <th>image_id</th>\n",
              "    </tr>\n",
              "  </thead>\n",
              "  <tbody>\n",
              "    <tr>\n",
              "      <th>0</th>\n",
              "      <td>0.0</td>\n",
              "      <td>ISIC_0031929</td>\n",
              "    </tr>\n",
              "    <tr>\n",
              "      <th>1</th>\n",
              "      <td>0.0</td>\n",
              "      <td>ISIC_0026872</td>\n",
              "    </tr>\n",
              "    <tr>\n",
              "      <th>2</th>\n",
              "      <td>0.0</td>\n",
              "      <td>ISIC_0031119</td>\n",
              "    </tr>\n",
              "    <tr>\n",
              "      <th>3</th>\n",
              "      <td>0.0</td>\n",
              "      <td>ISIC_0030714</td>\n",
              "    </tr>\n",
              "    <tr>\n",
              "      <th>4</th>\n",
              "      <td>0.0</td>\n",
              "      <td>ISIC_0030602</td>\n",
              "    </tr>\n",
              "    <tr>\n",
              "      <th>...</th>\n",
              "      <td>...</td>\n",
              "      <td>...</td>\n",
              "    </tr>\n",
              "    <tr>\n",
              "      <th>2000</th>\n",
              "      <td>6.0</td>\n",
              "      <td>ISIC_0025606</td>\n",
              "    </tr>\n",
              "    <tr>\n",
              "      <th>2001</th>\n",
              "      <td>6.0</td>\n",
              "      <td>ISIC_0025250</td>\n",
              "    </tr>\n",
              "    <tr>\n",
              "      <th>2002</th>\n",
              "      <td>6.0</td>\n",
              "      <td>ISIC_0027937</td>\n",
              "    </tr>\n",
              "    <tr>\n",
              "      <th>2003</th>\n",
              "      <td>6.0</td>\n",
              "      <td>ISIC_0025680</td>\n",
              "    </tr>\n",
              "    <tr>\n",
              "      <th>2004</th>\n",
              "      <td>6.0</td>\n",
              "      <td>ISIC_0026349</td>\n",
              "    </tr>\n",
              "  </tbody>\n",
              "</table>\n",
              "<p>2005 rows × 2 columns</p>\n",
              "</div>"
            ],
            "text/plain": [
              "       dx      image_id\n",
              "0     0.0  ISIC_0031929\n",
              "1     0.0  ISIC_0026872\n",
              "2     0.0  ISIC_0031119\n",
              "3     0.0  ISIC_0030714\n",
              "4     0.0  ISIC_0030602\n",
              "...   ...           ...\n",
              "2000  6.0  ISIC_0025606\n",
              "2001  6.0  ISIC_0025250\n",
              "2002  6.0  ISIC_0027937\n",
              "2003  6.0  ISIC_0025680\n",
              "2004  6.0  ISIC_0026349\n",
              "\n",
              "[2005 rows x 2 columns]"
            ]
          },
          "metadata": {
            "tags": []
          },
          "execution_count": 9
        }
      ]
    },
    {
      "cell_type": "code",
      "metadata": {
        "id": "CC8-8CV6CMYs",
        "colab_type": "code",
        "colab": {
          "base_uri": "https://localhost:8080/",
          "height": 658
        },
        "outputId": "eb8de284-8deb-4abd-a137-156a67c91d4f"
      },
      "source": [
        "#create a new classifier folder\n",
        "!mkdir /classifiers\n",
        "\n",
        "#build a classifier and save it\n",
        "n_cl = new_classifier4()\n",
        "n_cl.save('/classifiers/cl_fit.h5')\n",
        "del n_cl"
      ],
      "execution_count": null,
      "outputs": [
        {
          "output_type": "stream",
          "text": [
            "mkdir: cannot create directory ‘/classifiers’: File exists\n",
            "Model: \"sequential_2\"\n",
            "_________________________________________________________________\n",
            "Layer (type)                 Output Shape              Param #   \n",
            "=================================================================\n",
            "batch_normalization_5 (Batch (None, 150, 200, 3)       12        \n",
            "_________________________________________________________________\n",
            "conv2d_4 (Conv2D)            (None, 150, 200, 20)      1520      \n",
            "_________________________________________________________________\n",
            "max_pooling2d_4 (MaxPooling2 (None, 75, 100, 20)       0         \n",
            "_________________________________________________________________\n",
            "batch_normalization_6 (Batch (None, 75, 100, 20)       80        \n",
            "_________________________________________________________________\n",
            "conv2d_5 (Conv2D)            (None, 75, 100, 140)      25340     \n",
            "_________________________________________________________________\n",
            "max_pooling2d_5 (MaxPooling2 (None, 37, 50, 140)       0         \n",
            "_________________________________________________________________\n",
            "batch_normalization_7 (Batch (None, 37, 50, 140)       560       \n",
            "_________________________________________________________________\n",
            "conv2d_6 (Conv2D)            (None, 37, 50, 50)        63050     \n",
            "_________________________________________________________________\n",
            "max_pooling2d_6 (MaxPooling2 (None, 18, 25, 50)        0         \n",
            "_________________________________________________________________\n",
            "batch_normalization_8 (Batch (None, 18, 25, 50)        200       \n",
            "_________________________________________________________________\n",
            "flatten_2 (Flatten)          (None, 22500)             0         \n",
            "_________________________________________________________________\n",
            "dense_3 (Dense)              (None, 128)               2880128   \n",
            "_________________________________________________________________\n",
            "dense_4 (Dense)              (None, 7)                 903       \n",
            "=================================================================\n",
            "Total params: 2,971,793\n",
            "Trainable params: 2,971,367\n",
            "Non-trainable params: 426\n",
            "_________________________________________________________________\n"
          ],
          "name": "stdout"
        }
      ]
    },
    {
      "cell_type": "code",
      "metadata": {
        "id": "fm50BwtVCMdy",
        "colab_type": "code",
        "colab": {
          "base_uri": "https://localhost:8080/",
          "height": 915
        },
        "outputId": "78a449a2-e2f4-454c-b74d-df474e6e9f2b"
      },
      "source": [
        "#retrieve arrays of pixels for every image in train and validation datasets\n",
        "X_train=np.asarray(load_images(dataset_train[\"image_id\"]))\n",
        "X_val=np.asarray(load_images(dataset_val[\"image_id\"]))\n",
        "y_train=(dataset_train[\"dx\"])\n",
        "y_val=(dataset_val[\"dx\"])\n",
        "X_train[0]#example of one image"
      ],
      "execution_count": null,
      "outputs": [
        {
          "output_type": "execute_result",
          "data": {
            "text/plain": [
              "array([[[ 24,  23,  65],\n",
              "        [ 36,  35,  77],\n",
              "        [ 53,  52,  94],\n",
              "        ...,\n",
              "        [ 20,  19,  45],\n",
              "        [ 12,   9,  34],\n",
              "        [  5,   3,  25]],\n",
              "\n",
              "       [[ 32,  31,  73],\n",
              "        [ 44,  43,  85],\n",
              "        [ 61,  60, 102],\n",
              "        ...,\n",
              "        [ 27,  25,  54],\n",
              "        [ 18,  15,  40],\n",
              "        [ 10,   8,  30]],\n",
              "\n",
              "       [[ 44,  43,  85],\n",
              "        [ 56,  55,  97],\n",
              "        [ 72,  71, 113],\n",
              "        ...,\n",
              "        [ 36,  34,  64],\n",
              "        [ 26,  23,  49],\n",
              "        [ 18,  15,  40]],\n",
              "\n",
              "       ...,\n",
              "\n",
              "       [[114, 116, 151],\n",
              "        [123, 125, 160],\n",
              "        [136, 138, 173],\n",
              "        ...,\n",
              "        [106, 101, 140],\n",
              "        [ 84,  81, 120],\n",
              "        [ 67,  64, 103]],\n",
              "\n",
              "       [[104, 106, 141],\n",
              "        [115, 117, 152],\n",
              "        [128, 130, 165],\n",
              "        ...,\n",
              "        [ 92,  89, 128],\n",
              "        [ 72,  69, 108],\n",
              "        [ 55,  52,  91]],\n",
              "\n",
              "       [[ 97,  99, 134],\n",
              "        [109, 111, 146],\n",
              "        [124, 126, 161],\n",
              "        ...,\n",
              "        [ 82,  79, 118],\n",
              "        [ 62,  59,  98],\n",
              "        [ 45,  42,  81]]], dtype=uint8)"
            ]
          },
          "metadata": {
            "tags": []
          },
          "execution_count": 13
        }
      ]
    },
    {
      "cell_type": "code",
      "metadata": {
        "id": "ZjqLQSqNC78n",
        "colab_type": "code",
        "colab": {
          "base_uri": "https://localhost:8080/",
          "height": 145
        },
        "outputId": "953b3ef9-8655-433f-efa1-30e6a077c57c"
      },
      "source": [
        "#1hot encoding of labels for both train and validation set\n",
        "enc = OneHotEncoder(sparse=False)\n",
        "y_train_shaped = np.array(y_train).reshape(-1,1)\n",
        "y_val_shaped = np.array(y_val).reshape(-1,1)\n",
        "enc.fit(y_train_shaped)\n",
        "y_train_one = enc.transform(y_train_shaped)\n",
        "y_val_one = enc.transform(y_val_shaped)\n",
        "y_train_one #example for y_train encoded"
      ],
      "execution_count": null,
      "outputs": [
        {
          "output_type": "execute_result",
          "data": {
            "text/plain": [
              "array([[1., 0., 0., ..., 0., 0., 0.],\n",
              "       [1., 0., 0., ..., 0., 0., 0.],\n",
              "       [1., 0., 0., ..., 0., 0., 0.],\n",
              "       ...,\n",
              "       [0., 0., 0., ..., 0., 0., 1.],\n",
              "       [0., 0., 0., ..., 0., 0., 1.],\n",
              "       [0., 0., 0., ..., 0., 0., 1.]])"
            ]
          },
          "metadata": {
            "tags": []
          },
          "execution_count": 14
        }
      ]
    },
    {
      "cell_type": "code",
      "metadata": {
        "id": "M8YGokNLDYBH",
        "colab_type": "code",
        "colab": {
          "base_uri": "https://localhost:8080/",
          "height": 786
        },
        "outputId": "674727ce-8006-4337-bf01-ef8959c051d7"
      },
      "source": [
        "#retrieve the model, than create the callbacks and fit the model\n",
        "cl_name = \"/classifiers/cl_fit.h5\"\n",
        "es = EarlyStopping(monitor='val_loss', mode='min', verbose=1, patience=5)\n",
        "mc = ModelCheckpoint('/classifiers/cl_fit.h5', monitor='val_loss', mode='min', save_best_only=True)\n",
        "cl_fit = k.models.load_model(cl_name)\n",
        "cl_fit.fit(X_train, y_train_one, batch_size=250, epochs=20 ,shuffle=True, \n",
        "           validation_data=(X_val, y_val_one), verbose=1 , callbacks=[history,mc,es])"
      ],
      "execution_count": null,
      "outputs": [
        {
          "output_type": "stream",
          "text": [
            "Train on 30697 samples, validate on 1605 samples\n",
            "Epoch 1/20\n",
            "30697/30697 [==============================] - 126s 4ms/step - loss: 0.4475 - accuracy: 0.8671 - val_loss: 0.4549 - val_accuracy: 0.8320\n",
            "Epoch 2/20\n",
            "30697/30697 [==============================] - 125s 4ms/step - loss: 0.2217 - accuracy: 0.9080 - val_loss: 0.2055 - val_accuracy: 0.9208\n",
            "Epoch 3/20\n",
            "30697/30697 [==============================] - 125s 4ms/step - loss: 0.1736 - accuracy: 0.9281 - val_loss: 0.2156 - val_accuracy: 0.9150\n",
            "Epoch 4/20\n",
            "30697/30697 [==============================] - 125s 4ms/step - loss: 0.1371 - accuracy: 0.9435 - val_loss: 0.2183 - val_accuracy: 0.9144\n",
            "Epoch 5/20\n",
            "30697/30697 [==============================] - 125s 4ms/step - loss: 0.1088 - accuracy: 0.9559 - val_loss: 0.1452 - val_accuracy: 0.9435\n",
            "Epoch 6/20\n",
            "30697/30697 [==============================] - 125s 4ms/step - loss: 0.0859 - accuracy: 0.9656 - val_loss: 0.1416 - val_accuracy: 0.9462\n",
            "Epoch 7/20\n",
            "30697/30697 [==============================] - 125s 4ms/step - loss: 0.0642 - accuracy: 0.9755 - val_loss: 0.2328 - val_accuracy: 0.9189\n",
            "Epoch 8/20\n",
            "30697/30697 [==============================] - 125s 4ms/step - loss: 0.0497 - accuracy: 0.9821 - val_loss: 0.1803 - val_accuracy: 0.9388\n",
            "Epoch 9/20\n",
            "30697/30697 [==============================] - 125s 4ms/step - loss: 0.0394 - accuracy: 0.9858 - val_loss: 0.1369 - val_accuracy: 0.9547\n",
            "Epoch 10/20\n",
            "30697/30697 [==============================] - 125s 4ms/step - loss: 0.0271 - accuracy: 0.9909 - val_loss: 0.1339 - val_accuracy: 0.9531\n",
            "Epoch 11/20\n",
            "30697/30697 [==============================] - 125s 4ms/step - loss: 0.0198 - accuracy: 0.9939 - val_loss: 0.1298 - val_accuracy: 0.9580\n",
            "Epoch 12/20\n",
            "30697/30697 [==============================] - 125s 4ms/step - loss: 0.0150 - accuracy: 0.9958 - val_loss: 0.1176 - val_accuracy: 0.9670\n",
            "Epoch 13/20\n",
            "30697/30697 [==============================] - 125s 4ms/step - loss: 0.0098 - accuracy: 0.9974 - val_loss: 0.1134 - val_accuracy: 0.9688\n",
            "Epoch 14/20\n",
            "30697/30697 [==============================] - 125s 4ms/step - loss: 0.0062 - accuracy: 0.9985 - val_loss: 0.1426 - val_accuracy: 0.9638\n",
            "Epoch 15/20\n",
            "30697/30697 [==============================] - 125s 4ms/step - loss: 0.0042 - accuracy: 0.9991 - val_loss: 0.1750 - val_accuracy: 0.9590\n",
            "Epoch 16/20\n",
            "30697/30697 [==============================] - 125s 4ms/step - loss: 0.0029 - accuracy: 0.9995 - val_loss: 0.1128 - val_accuracy: 0.9731\n",
            "Epoch 17/20\n",
            "30697/30697 [==============================] - 125s 4ms/step - loss: 0.0020 - accuracy: 0.9997 - val_loss: 0.1122 - val_accuracy: 0.9736\n",
            "Epoch 18/20\n",
            "30697/30697 [==============================] - 125s 4ms/step - loss: 9.1776e-04 - accuracy: 1.0000 - val_loss: 0.1174 - val_accuracy: 0.9731\n",
            "Epoch 19/20\n",
            "30697/30697 [==============================] - 125s 4ms/step - loss: 6.4800e-04 - accuracy: 1.0000 - val_loss: 0.1536 - val_accuracy: 0.9648\n",
            "Epoch 20/20\n",
            "30697/30697 [==============================] - 125s 4ms/step - loss: 0.0011 - accuracy: 0.9998 - val_loss: 0.1290 - val_accuracy: 0.9729\n"
          ],
          "name": "stdout"
        },
        {
          "output_type": "execute_result",
          "data": {
            "text/plain": [
              "<keras.callbacks.callbacks.History at 0x7f0122181b38>"
            ]
          },
          "metadata": {
            "tags": []
          },
          "execution_count": 23
        }
      ]
    },
    {
      "cell_type": "code",
      "metadata": {
        "id": "ne0h8C2tDq0m",
        "colab_type": "code",
        "colab": {
          "base_uri": "https://localhost:8080/",
          "height": 591
        },
        "outputId": "d7ebd493-17d8-4208-a896-578947fc2ee7"
      },
      "source": [
        "#plot the history of model to show graphs\n",
        "print(history.history.keys())\n",
        "# summarize history for accuracy\n",
        "plt.plot(history.history['accuracy'])\n",
        "plt.plot(history.history['val_accuracy'])\n",
        "plt.title('model accuracy')\n",
        "plt.ylabel('accuracy')\n",
        "plt.xlabel('epoch')\n",
        "plt.legend(['train', 'test'], loc='upper left')\n",
        "plt.show()\n",
        "# summarize history for loss\n",
        "plt.plot(history.history['loss'])\n",
        "plt.plot(history.history['val_loss'])\n",
        "plt.title('model loss')\n",
        "plt.ylabel('loss')\n",
        "plt.xlabel('epoch')\n",
        "plt.legend(['train', 'test'], loc='upper left')\n",
        "plt.show()"
      ],
      "execution_count": null,
      "outputs": [
        {
          "output_type": "stream",
          "text": [
            "dict_keys(['val_loss', 'val_accuracy', 'loss', 'accuracy'])\n"
          ],
          "name": "stdout"
        },
        {
          "output_type": "display_data",
          "data": {
            "image/png": "[encoded data removed]",
            "text/plain": [
              "<Figure size 432x288 with 1 Axes>"
            ]
          },
          "metadata": {
            "tags": [],
            "needs_background": "light"
          }
        },
        {
          "output_type": "display_data",
          "data": {
            "image/png": "[encoded data removed]",
            "text/plain": [
              "<Figure size 432x288 with 1 Axes>"
            ]
          },
          "metadata": {
            "tags": [],
            "needs_background": "light"
          }
        }
      ]
    },
    {
      "cell_type": "code",
      "metadata": {
        "id": "KXJab_QSEC6c",
        "colab_type": "code",
        "colab": {}
      },
      "source": [
        "cl_fit = k.models.load_model(\"/classifiers/cl_fit.h5\")\n",
        "#load images for test set\n",
        "test_img = load_images(dataset_test[\"image_id\"])"
      ],
      "execution_count": null,
      "outputs": []
    },
    {
      "cell_type": "code",
      "metadata": {
        "id": "k_DTRl5aEZMi",
        "colab_type": "code",
        "colab": {
          "base_uri": "https://localhost:8080/",
          "height": 292
        },
        "outputId": "f9a6e7f0-3d5c-4dfb-8006-2d94c25189c4"
      },
      "source": [
        "#do predictions\n",
        "predictions2 = cl_fit.predict(test_img)\n",
        "pred_reverse2 = enc.inverse_transform(predictions2)\n",
        "print(skl.metrics.classification_report(dataset_test[\"dx\"], pred_reverse2))\n",
        "print('F1-score: '+ str(round(skl.metrics.f1_score(dataset_test[\"dx\"], pred_reverse2, average='micro'),2)))"
      ],
      "execution_count": null,
      "outputs": [
        {
          "output_type": "stream",
          "text": [
            "              precision    recall  f1-score   support\n",
            "\n",
            "         0.0       0.88      0.79      0.83        66\n",
            "         1.0       0.89      0.86      0.88       103\n",
            "         2.0       0.79      0.89      0.83       220\n",
            "         3.0       0.73      0.83      0.78        23\n",
            "         4.0       0.73      0.79      0.76       223\n",
            "         5.0       0.96      0.94      0.95      1341\n",
            "         6.0       1.00      0.97      0.98        29\n",
            "\n",
            "    accuracy                           0.91      2005\n",
            "   macro avg       0.85      0.87      0.86      2005\n",
            "weighted avg       0.91      0.91      0.91      2005\n",
            "\n",
            "F1-score: 0.91\n"
          ],
          "name": "stdout"
        }
      ]
    },
    {
      "cell_type": "code",
      "metadata": {
        "id": "Yt4csyYjalOB",
        "colab_type": "code",
        "colab": {}
      },
      "source": [
        ""
      ],
      "execution_count": null,
      "outputs": []
    },
    {
      "cell_type": "code",
      "metadata": {
        "id": "cO7QEy42ASnz",
        "colab_type": "code",
        "colab": {
          "base_uri": "https://localhost:8080/",
          "height": 311
        },
        "outputId": "420da674-2707-4cf0-8c1b-9f28982b0be4"
      },
      "source": [
        "import itertools\n",
        "# Function to plot confusion matrix    \n",
        "def plot_confusion_matrix(cm, classes,\n",
        "                          normalize=False,\n",
        "                          title='Confusion matrix',\n",
        "                          cmap=plt.cm.Blues):\n",
        "    \"\"\"\n",
        "    This function prints and plots the confusion matrix.\n",
        "    Normalization can be applied by setting `normalize=True`.\n",
        "    \"\"\"\n",
        "    plt.imshow(cm, interpolation='nearest', cmap=cmap)\n",
        "    plt.title(title)\n",
        "    plt.colorbar()\n",
        "    tick_marks = np.arange(len(classes))\n",
        "    plt.xticks(tick_marks, classes, rotation=45)\n",
        "    plt.yticks(tick_marks, classes)\n",
        "\n",
        "    if normalize:\n",
        "        cm = cm.astype('float') / cm.sum(axis=1)[:, np.newaxis]\n",
        "\n",
        "    thresh = cm.max() / 2.\n",
        "    for i, j in itertools.product(range(cm.shape[0]), range(cm.shape[1])):\n",
        "        plt.text(j, i, cm[i, j],\n",
        "                 horizontalalignment=\"center\",\n",
        "                 color=\"white\" if cm[i, j] > thresh else \"black\")\n",
        "\n",
        "    plt.tight_layout()\n",
        "    plt.ylabel('True label')\n",
        "    plt.xlabel('Predicted label')\n",
        "\n",
        "\n",
        "confusion_mtx = skl.metrics.confusion_matrix(dataset_test[\"dx\"], pred_reverse2)\n",
        "\n",
        " \n",
        "\n",
        "# plot the confusion matrix\n",
        "plot_confusion_matrix(confusion_mtx, classes = range(7)) "
      ],
      "execution_count": null,
      "outputs": [
        {
          "output_type": "display_data",
          "data": {
            "image/png": "[encoded data removed]",
            "text/plain": [
              "<Figure size 432x288 with 2 Axes>"
            ]
          },
          "metadata": {
            "tags": [],
            "needs_background": "light"
          }
        }
      ]
    }
  ]
}